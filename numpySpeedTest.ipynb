{
  "nbformat": 4,
  "nbformat_minor": 0,
  "metadata": {
    "colab": {
      "provenance": [],
      "authorship_tag": "ABX9TyNBKVSzbxnch7Er7WC5cj1x",
      "include_colab_link": true
    },
    "kernelspec": {
      "name": "python3",
      "display_name": "Python 3"
    },
    "language_info": {
      "name": "python"
    }
  },
  "cells": [
    {
      "cell_type": "markdown",
      "metadata": {
        "id": "view-in-github",
        "colab_type": "text"
      },
      "source": [
        "<a href=\"https://colab.research.google.com/github/ogorgodze/PythonCodes/blob/main/numpySpeedTest.ipynb\" target=\"_parent\"><img src=\"https://colab.research.google.com/assets/colab-badge.svg\" alt=\"Open In Colab\"/></a>"
      ]
    },
    {
      "cell_type": "code",
      "source": [
        "import timeit,numpy"
      ],
      "metadata": {
        "id": "cnfe6P9tEtAw"
      },
      "execution_count": null,
      "outputs": []
    },
    {
      "cell_type": "code",
      "metadata": {
        "id": "84-uN8UYtHRW"
      },
      "source": [
        "def while_loop(n=100_000_000):\n",
        "  i=0\n",
        "  s=0\n",
        "  while i<n:\n",
        "    s+=i\n",
        "    i+=1\n",
        "  return s\n"
      ],
      "execution_count": null,
      "outputs": []
    },
    {
      "cell_type": "code",
      "source": [
        "def for_loop(n=100_000_000):\n",
        "  s=0\n",
        "  for i in range(n):\n",
        "      s+=i\n",
        "  return s\n"
      ],
      "metadata": {
        "id": "hJPcLUBsBfhn"
      },
      "execution_count": null,
      "outputs": []
    },
    {
      "cell_type": "code",
      "source": [
        "def sum_range(n=100_000_000):\n",
        "  return sum(range(n))"
      ],
      "metadata": {
        "id": "yPvo2Rk6KBtW"
      },
      "execution_count": null,
      "outputs": []
    },
    {
      "cell_type": "code",
      "source": [
        "def sum_numpy(n=100_000_000):\n",
        "  return numpy.sum(numpy.arange(n))"
      ],
      "metadata": {
        "id": "c_N2NNAALaX9"
      },
      "execution_count": null,
      "outputs": []
    },
    {
      "cell_type": "code",
      "metadata": {
        "colab": {
          "base_uri": "https://localhost:8080/"
        },
        "id": "fdvU1fSCtQOQ",
        "outputId": "c66a25f7-e8e6-4b44-ee26-290ba2f4f721"
      },
      "source": [
        "print(\"while loop runing time is \",timeit.timeit(while_loop,number=1))\n",
        "\n",
        "print(\"for loop runing time is \",timeit.timeit(for_loop,number=1))"
      ],
      "execution_count": null,
      "outputs": [
        {
          "output_type": "stream",
          "name": "stdout",
          "text": [
            "while loop runing time is  13.627840963000011\n",
            "for loop runing time is  7.847579878999994\n"
          ]
        }
      ]
    },
    {
      "cell_type": "code",
      "source": [
        "print(\"sumrange runing time is \",timeit.timeit(sum_range,number=1))"
      ],
      "metadata": {
        "colab": {
          "base_uri": "https://localhost:8080/"
        },
        "id": "MLgpw02CKmrd",
        "outputId": "feb89030-8d8e-4ded-d254-abc8a5392454"
      },
      "execution_count": null,
      "outputs": [
        {
          "output_type": "stream",
          "name": "stdout",
          "text": [
            "sumrange runing time is  2.2202176319999865\n"
          ]
        }
      ]
    },
    {
      "cell_type": "code",
      "source": [
        "print(\"numpy runing time is \",timeit.timeit(sum_numpy,number=1))"
      ],
      "metadata": {
        "colab": {
          "base_uri": "https://localhost:8080/"
        },
        "outputId": "55aec0d4-0833-478e-a110-e43f1cd9f88a",
        "id": "-mF1IfjQMAv8"
      },
      "execution_count": null,
      "outputs": [
        {
          "output_type": "stream",
          "name": "stdout",
          "text": [
            "numpy runing time is  0.28169863900001246\n"
          ]
        },
        {
          "output_type": "execute_result",
          "data": {
            "text/plain": [
              "4999999950000000"
            ]
          },
          "metadata": {},
          "execution_count": 10
        }
      ]
    }
  ]
}